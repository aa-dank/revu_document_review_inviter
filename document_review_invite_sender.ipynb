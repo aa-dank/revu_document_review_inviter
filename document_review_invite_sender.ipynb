{
 "cells": [
  {
   "cell_type": "markdown",
   "metadata": {
    "id": "kG2vPLyD5u1u"
   },
   "source": [
    "# 🔥 Remember to check: 🔥\n",
    "## 🩸 That the files are not too big to be attached to an email.\n",
    "## 🩸 That all fields have been cleared or changed from the previous review sent.\n",
    "## 🩸 That project manager (or project management team) are included in the 'reviewer_emails'.\n",
    "## 🩸 [Usage Documentation here.](https://docs.google.com/document/d/1Kldu2hwlYlwG1Oy9berbRNRcKr97Aha43eex2rb8aXs/edit?usp=sharing)\n",
    "## 🩸 [README](https://github.com/aa-dank/revu_document_review_inviter/blob/master/README.md)"
   ]
  },
  {
   "cell_type": "code",
   "execution_count": null,
   "metadata": {
    "colab": {
     "base_uri": "https://localhost:8080/",
     "height": 954
    },
    "id": "1067NCzo6Kq1",
    "outputId": "d737e41b-5a64-4b89-db72-25defc527ea8"
   },
   "outputs": [
    {
     "name": "stdout",
     "output_type": "stream",
     "text": [
      "\u001b[?25l   \u001b[90m━━━━━━━━━━━━━━━━━━━━━━━━━━━━━━━━━━━━━━━━\u001b[0m \u001b[32m0.0/385.7 kB\u001b[0m \u001b[31m?\u001b[0m eta \u001b[36m-:--:--\u001b[0m\r\u001b[2K   \u001b[91m━━━━━━━━━━━━━━━\u001b[0m\u001b[91m╸\u001b[0m\u001b[90m━━━━━━━━━━━━━━━━━━━━━━━━\u001b[0m \u001b[32m153.6/385.7 kB\u001b[0m \u001b[31m4.5 MB/s\u001b[0m eta \u001b[36m0:00:01\u001b[0m\r\u001b[2K   \u001b[90m━━━━━━━━━━━━━━━━━━━━━━━━━━━━━━━━━━━━━━━━\u001b[0m \u001b[32m385.7/385.7 kB\u001b[0m \u001b[31m6.2 MB/s\u001b[0m eta \u001b[36m0:00:00\u001b[0m\n",
      "\u001b[?25hMounted at /content/drive\n",
      "Confirm you want to send the following review: \n",
      " \n",
      "\n",
      "Project Number: 10000-249\n",
      "Project Name: Multiple Locations - Interdisciplinary Sciences Building, Thimann, and Sinsheimer Laboratories Greenhouse Argus Modernization\n",
      "PM: Dennis Prieto\n",
      "Recharge: CruzFix WO 57745\n",
      "Review Type: 50% CD\n",
      "Review End: 11-27-2024\n",
      "Distribution Emails: notis@ucsc.edu, felix@ucsc.edu, kernsj@ucsc.edu, escarpen@ucsc.edu, arthur@ucsc.edu\n",
      "mdolder@ucsc.edu, demonner@ucsc.edu, dwhintsa@ucsc.edu, erparson@ucsc.edu\n",
      "mcabak@ucsc.edu, pboutell@ucsc.edu, gjsmith@ucsc.edu, mdouvia@ucsc.edu\n",
      "djessen@ucsc.edu, jclothie@ucsc.edu, gcriggs@ucsc.edu, nox@ucsc.edu\n",
      "trask@ucsc.edu, testoni@ucsc.edu, ehs@ucsc.edu, sirie@ucsc.edu\n",
      "djprieto@ucsc.edu, ecoatney@ucsc.edu, frajimen@ucsc.edu, mareboll@ucsc.edu\n",
      "\n",
      "Files under review: 2024 1030 UCSC Argus Modernization 50_ CDs.pdf\n",
      "\n",
      "\n",
      "------------------------------------------------------------------------------------------------------------------------------------------------------------\n",
      "\n"
     ]
    },
    {
     "data": {
      "text/html": [
       "\n",
       "            <!doctype html>\n",
       "            <html>\n",
       "            <head>\n",
       "            <meta charset=\"utf-8\">\n",
       "            <title>Plan_review_invite</title>\n",
       "            </head>\n",
       "            <body>\n",
       "            <h2>PPDO Document Review</h2>\n",
       "            <p>Please accept this email as a request for review for <i>Project 10000-249, Multiple Locations - Interdisciplinary Sciences Building, Thimann, and Sinsheimer Laboratories Greenhouse Argus Modernization </i>on behalf of the University project manager, Dennis Prieto. If possible, please leave your comments in the below Bluebeam Studio Session. If you do not have Bluebeam, please complete your review in either FileMaker or on the attached reviewer_comments spreadsheet.</p>\n",
       "            <h3>&#160;</h3>\n",
       "            <h3>Review Completion Date</h3>\n",
       "            <p>Please have your comments available by the end of the day on 11-27-2024</p>\n",
       "            <p>&#160;</p>\n",
       "            <h3>Bluebeam Session</h3>Session URL: <a href=\"https://studio.bluebeam.com/hyperlink.html?link=studio.bluebeam.com/sessions/447-238-674\">https://studio.bluebeam.com/hyperlink.html?link=studio.bluebeam.com/sessions/447-238-674</a></p>\n",
       "            <p>&#160;</p><h3>Recharge</h3>\n",
       "            <p>Time can be recharged to CruzFix WO 57745</p>\n",
       "            <p>&#160;</p>\n",
       "            <p>Thank you,<br /><em>UCSC Construction Documents</em><br /><em> 1156 High Street, Barn G</em><br /><em> Physical Planning Development &amp; Operations</em><br /><em> University of California, Santa Cruz</em><br /><em> constdoc@ucsc.edu</em><br /><em> (831) 459-5326</em></p>\n",
       "            </body>\n",
       "            </html>\n",
       "        "
      ],
      "text/plain": [
       "<IPython.core.display.HTML object>"
      ]
     },
     "metadata": {},
     "output_type": "display_data"
    },
    {
     "name": "stdout",
     "output_type": "stream",
     "text": [
      "Proceed? Yes or No:yes\n",
      "Invite successfully sent!\n"
     ]
    }
   ],
   "source": [
    "! pip install -q yagmail\n",
    "\n",
    "import IPython\n",
    "import shutil\n",
    "import os\n",
    "import importlib\n",
    "import pdb\n",
    "import time\n",
    "import re\n",
    "import yagmail\n",
    "import logging\n",
    "from google.colab import drive\n",
    "from google.colab import auth\n",
    "from google.colab import output\n",
    "from dateutil import parser\n",
    "from collections import defaultdict\n",
    "\n",
    "\n",
    "def render_html_string(html_string):\n",
    "  html_filepath = r\"/content/email_body.html\"\n",
    "  with open(html_filepath, 'w') as email_body:\n",
    "    email_body.write(html_string)\n",
    "\n",
    "  display(IPython.display.HTML(filename=html_filepath))\n",
    "\n",
    "\n",
    "\n",
    "#auth.authenticate_user() #may require authorization\n",
    "drive.mount('/content/drive', force_remount=True)\n",
    "review_spreadsheet = 'rev_dist_files/reviewer_comments.xls'\n",
    "plan_review_dir = r'/content/drive/Shareddrives/PPDO_data_systems/plan_review_sender'\n",
    "gmail_creds = \"rev_dist_files/gmail_creds.json\"\n",
    "module_dir = r\"/content/drive/Shareddrives/PPDO_data_systems/document_review_invite_sender\"\n",
    "module_file = \"invite_sender.py\"\n",
    "creds_path = os.path.join(plan_review_dir, gmail_creds)\n",
    "module_path = os.path.join(module_dir, module_file)\n",
    "\n",
    "\n",
    "if not os.path.exists(module_path):\n",
    "  logging.exception(f\"Failed to find expected file: \\n {module_path}\")\n",
    "else:\n",
    "  shutil.copy(module_path, os.path.join(os.getcwd(), module_file))\n",
    "\n",
    "\n",
    "if not os.path.exists(creds_path):\n",
    "  logging.exception(f\"Failed to find expected file: \\n {creds_path}\")\n",
    "\n",
    "invite_sender = importlib.import_module(module_file[:-3])\n",
    "\n",
    "\n",
    "doc_review = invite_sender.DocumentReview(os.getcwd())\n",
    "project_manager = \"\" #@param {type:\"string\"}\n",
    "project_number = \"\" #@param {type:\"string\"}\n",
    "project_name = \"\" #@param {type:\"string\"}\n",
    "recharge_number = \"\" #@param {type:\"string\"}\n",
    "revu_session_id_text = \"You have been invited by constdoc to join a Bluebeam Studio Session:   10000-249 50% CD Review Session ID: 447-238-674 Session URL: https://studio.bluebeam.com/hyperlink.html?link=studio.bluebeam.com/sessions/447-238-674\" #@param {type:\"string\"}\n",
    "review_type = \"50% CD\" #@param {type:\"string\"}\n",
    "download_url = \"\" #@param {type:\"string\"}\n",
    "review_end_date = \"11/27/24\" #@param {type:\"string\"}\n",
    "reviewer_emails = \"- Campus Fire Marshal, Nick Otis, notis@ucsc.edu  - Director, Architectural Services, Felix Ang, felix@ucsc.edu  - Director, Campus Planning, Jolie Kerns, kernsj@ucsc.edu  - Senior Environmental Planner, Erika Carpenter, escarpen@ucsc.edu  - Campus Inspector, Art Wellersdick, arthur@ucsc.edu  - Director of Engineering Services, Mike Dolder, mdolder@ucsc.edu  - Engineering Services Senior Mechanical Engineer, Matt DeMonner, demonner@ucsc.edu  - HVAC Department Supervisor, Physical Plant Services, dwhintsa@ucsc.edu  - HVAC Specialist, Physical Plant Services, Ryan Parsons, erparson@ucsc.edu   - Engineering Services Senior Electrical Engineer, Mike Caback, mcabak@ucsc.edu  - Associate Engineer, Engineering Services, Phil Boutelle, pboutell@ucsc.edu  - Engineering & Construction Manager, ITS, Geoff Smith, gjsmith@ucsc.edu  - Associate Director, Physical Plant Services, Marc Douvia, mdouvia@ucsc.edu  - Senior Superintendent, Structural Trades, David Jessen, djessen@ucsc.edu  - Senior Superintendent, HVAC, BMS & Plumbing Shops, Jeff Clothier, jclothie@ucsc.edu  - Senior Superintendent, Cogen Plant, Fire/Security/Electrical, Gary Riggs, gcriggs@ucsc.edu  - Planned Maintenance Manager, Nate Moore, nox@ucsc.edu  - Storm Water Programs Manager, Courtney Trask, trask@ucsc.edu  - Campus Energy Manager, Patrick Testoni, testoni@ucsc.edu  - UCSC EH&S, ehs@ucsc.edu  - Work Management Supervisor, Steve Irie, sirie@ucsc.edu  - Project Manager, Dennis Prieto, djprieto@ucsc.edu  - Project Manager, Eric Coatney, ecoatney@ucsc.edu  - Project Manager, Al Jimenez, frajimen@ucsc.edu  - Project Manager, Miguel Robellar, mareboll@ucsc.edu\" #@param {type:\"string\"}\n",
    "notes_for_reviewers = \"\" #@param {type:\"string\"}\n",
    "\n",
    "\n",
    "sesh_id = invite_sender.Utilities.parse_session_id(revu_session_id_text)\n",
    "reviewer_emails = invite_sender.Utilities.get_email_addresses(reviewer_emails)\n",
    "\n",
    "doc_review.pm = project_manager\n",
    "doc_review.project_number = project_number\n",
    "doc_review.project_name = project_name\n",
    "doc_review.recharge_number = recharge_number\n",
    "doc_review.review_type = review_type\n",
    "doc_review.download_url = download_url\n",
    "doc_review.reviewer_emails = reviewer_emails\n",
    "doc_review.session_id = sesh_id\n",
    "doc_review.review_end = parser.parse(review_end_date)\n",
    "doc_review.reviewer_notes = notes_for_reviewers\n",
    "\n",
    "# Confirm the entered info is correct.\n",
    "print(\"Confirm you want to send the following review: \\n \\n\")\n",
    "print(str(doc_review))\n",
    "print(\"\\n------------------------------------------------------------------------------------------------------------------------------------------------------------\\n\")\n",
    "render_html_string(doc_review.invite_html())\n",
    "\n",
    "proceed = 'x'\n",
    "while not proceed[0] in ('n', 'y'):\n",
    "  proceed = input('Proceed? Yes or No:').lower()\n",
    "\n",
    "if not proceed.lower().startswith('n'):\n",
    "  emailer = invite_sender.InviteEmailer(creds_path)\n",
    "  invite_sent = emailer.distribute_invite(doc_review=doc_review, review_spreadsheet_path=os.path.join(plan_review_dir, review_spreadsheet))\n",
    "  if invite_sent:\n",
    "    print(\"Invite successfully sent!\")\n",
    "\n",
    "else:\n",
    "  print(\"Invite not sent.\")\n",
    "\n",
    "\n",
    "\n",
    "\n",
    "\n",
    "\n",
    "\n",
    "\n",
    "\n"
   ]
  }
 ],
 "metadata": {
  "colab": {
   "provenance": []
  },
  "kernelspec": {
   "display_name": "Python 3",
   "name": "python3"
  },
  "language_info": {
   "name": "python"
  }
 },
 "nbformat": 4,
 "nbformat_minor": 0
}
